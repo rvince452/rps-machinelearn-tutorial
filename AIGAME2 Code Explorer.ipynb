{
 "cells": [
  {
   "cell_type": "markdown",
   "metadata": {},
   "source": [
    "# Goals for AI GAME - RPG (Rock, Paper, Scissors) - Tutorial 2\n",
    "\n",
    "### Our last attempt at a game was fairly trival. How can we improve it?\n",
    "\n",
    "1.  We need to learn some more python if we are going to implement some more complicated logic.\n",
    "1.  We also need to leverage some other libraries to access functionality that is too much for us to write ourselves\n",
    "1.  We need to plan for how the ai will learn from the game history as that is the fundamental concept of AI\n"
   ]
  },
  {
   "cell_type": "markdown",
   "metadata": {},
   "source": [
    "************************************\n",
    "# Build Experience\n",
    "Let's expand our knowledge of Python in regards to the following:\n",
    "*  Python numbers, floats, boolean and string data types\n",
    "*  Defining string variables\n",
    "*  Defining multi-line strings\n",
    "*  Using strings to document functions\n",
    "*  How to query documentation for external strings\n",
    "\n",
    "### Python data types\n",
    "Python supports various types of data. In some cases you might need to store a numeric value, in others a string. You might even need to store true/false.\n"
   ]
  },
  {
   "cell_type": "code",
   "execution_count": 10,
   "metadata": {},
   "outputs": [
    {
     "name": "stdout",
     "output_type": "stream",
     "text": [
      "n1 has a value of 4 and is of type <class 'int'>\n",
      "n2 has a value of 3.14 and is of type <class 'float'>\n",
      "s1 has a value of Python is cool and is of type <class 'str'>\n",
      "b1 has a value of False and is of type <class 'bool'>\n",
      "n1+n2= 7.140000000000001\n",
      "s1+s1= Python is coolPython is cool\n"
     ]
    }
   ],
   "source": [
    "n1= 4 #define a integer\n",
    "#we can use the type function to tell us the type of a variable\n",
    "print('n1 has a value of',n1,'and is of type',type(n1))\n",
    "n2 = 3.14 #define a floating number\n",
    "print('n2 has a value of',n2,'and is of type',type(n2))\n",
    "s1 = 'Python is cool' #we can also define a string\n",
    "print('s1 has a value of',s1,'and is of type',type(s1))\n",
    "#Python supports a boolean type which can have values of True or False\n",
    "b1 = False\n",
    "print('b1 has a value of',b1,'and is of type',type(b1))\n",
    "print('n1+n2=',n1+n2) #we can perform math operations on ints and floats\n",
    "print('s1+s1=',s1+s1) #we can add strings\n",
    "\n",
    "\n"
   ]
  },
  {
   "cell_type": "markdown",
   "metadata": {},
   "source": [
    "**Note** - strings and numeric types are often not compatible"
   ]
  },
  {
   "cell_type": "code",
   "execution_count": 11,
   "metadata": {},
   "outputs": [
    {
     "name": "stdout",
     "output_type": "stream",
     "text": [
      " not equal\n"
     ]
    }
   ],
   "source": [
    "#for example, the following causes an error: print('1'+2)\n",
    "#this is because strings and numeric types cannot be automatically converted to each other\n",
    "\n",
    "#Also, they do not compare to each other as you  might expect\n",
    "c1 = '1'\n",
    "c2 = 1\n",
    "if c1==c2:   #the == operator returns True if the two values are the same\n",
    "    print('equal')\n",
    "else:\n",
    "    print(' not equal')"
   ]
  },
  {
   "cell_type": "code",
   "execution_count": 13,
   "metadata": {},
   "outputs": [
    {
     "name": "stdout",
     "output_type": "stream",
     "text": [
      "n= 3444 and is a type= <class 'int'>\n",
      "s= 2 and is a type= <class 'str'>\n"
     ]
    }
   ],
   "source": [
    "#But one can convert from one to another\n",
    "n = int('3444') #convert the string '3444' to an integer\n",
    "print('n=',n,'and is a type=',type(n))\n",
    "s = str(2) #convert the number 2 to a string\n",
    "print('s=',s,'and is a type=',type(s))"
   ]
  },
  {
   "cell_type": "markdown",
   "metadata": {},
   "source": [
    "### Strings can be define using either single quotes or double quotes"
   ]
  },
  {
   "cell_type": "code",
   "execution_count": 1,
   "metadata": {},
   "outputs": [
    {
     "name": "stdout",
     "output_type": "stream",
     "text": [
      "string using double quotes\n",
      "string using single quotes\n"
     ]
    }
   ],
   "source": [
    "s1 = \"string using double quotes\"\n",
    "s2 = 'string using single quotes'\n",
    "print(s1)\n",
    "print(s2)"
   ]
  },
  {
   "cell_type": "code",
   "execution_count": 2,
   "metadata": {},
   "outputs": [
    {
     "name": "stdout",
     "output_type": "stream",
     "text": [
      "John's Coat\n"
     ]
    }
   ],
   "source": [
    "#What if you want to use a single quote or double quote in a string?\n",
    "s = 'Johns Coat' #I want to put a single quote a such John's Coat but that would lead to an error\n",
    "#Solution, use \\ to escape the single quote\n",
    "s = 'John\\'s Coat'\n",
    "print(s)"
   ]
  },
  {
   "cell_type": "code",
   "execution_count": 4,
   "metadata": {},
   "outputs": [
    {
     "name": "stdout",
     "output_type": "stream",
     "text": [
      "John's Coat\n"
     ]
    }
   ],
   "source": [
    "# Better solution, use double quotes to define the string\n",
    "s = \"John's Coat\" #I don't need to escape the single quote since I used double quotes around the string\n",
    "print(s)"
   ]
  },
  {
   "cell_type": "markdown",
   "metadata": {},
   "source": [
    "### Multiline strings can be defined by using three single quotes"
   ]
  },
  {
   "cell_type": "code",
   "execution_count": 3,
   "metadata": {},
   "outputs": [
    {
     "name": "stdout",
     "output_type": "stream",
     "text": [
      "The rain in spain\n",
      "falls mainly in the plains\n"
     ]
    }
   ],
   "source": [
    "sMultiline = '''The rain in spain\n",
    "falls mainly in the plains'''\n",
    "print(sMultiline)"
   ]
  },
  {
   "cell_type": "markdown",
   "metadata": {},
   "source": [
    "### Function Documentation\n",
    "Up until now, we have used the # to add Python comments. But for functions, there is convention that documentation is added after the name of the function using a multiline string. Such strings are called 'docstrings'"
   ]
  },
  {
   "cell_type": "code",
   "execution_count": 5,
   "metadata": {},
   "outputs": [],
   "source": [
    "def PrintHello():\n",
    "    '''\n",
    "    This function prints the word \"Hello\"\n",
    "    '''\n",
    "    print('Hello')\n"
   ]
  },
  {
   "cell_type": "markdown",
   "metadata": {},
   "source": [
    "Once a docstring has been added, one can access this string by using the following syntax: <br>\n",
    "? <functionname>"
   ]
  },
  {
   "cell_type": "code",
   "execution_count": 8,
   "metadata": {},
   "outputs": [],
   "source": [
    "? PrintHello #When you run this command, the name/docstring of the function is shown at the bottom of the window"
   ]
  },
  {
   "cell_type": "markdown",
   "metadata": {},
   "source": [
    "### How to read text from the user in Python\n",
    "\n",
    "So far we have only printed text to the screen. We have not yet prompted the user to enter text.\n",
    "This is done with the built-in input function"
   ]
  },
  {
   "cell_type": "code",
   "execution_count": 9,
   "metadata": {},
   "outputs": [],
   "source": [
    "? input #What is the documentation for input"
   ]
  },
  {
   "cell_type": "code",
   "execution_count": 10,
   "metadata": {},
   "outputs": [
    {
     "name": "stdout",
     "output_type": "stream",
     "text": [
      "What is your name?Richard\n",
      "Your name is Richard\n"
     ]
    }
   ],
   "source": [
    "#Example\n",
    "response = input('What is your name?  ') #Prompts the user to enter text, they must hit return to signal they are finished\n",
    "print('Your name is',response)"
   ]
  },
  {
   "cell_type": "markdown",
   "metadata": {},
   "source": [
    "### How to generate a random number in Python\n",
    "\n",
    "There is no built-in function for generating random numbers. Instead we use a package. But first we have to import the package"
   ]
  },
  {
   "cell_type": "code",
   "execution_count": 13,
   "metadata": {},
   "outputs": [
    {
     "name": "stdout",
     "output_type": "stream",
     "text": [
      "5\n"
     ]
    }
   ],
   "source": [
    "import random\n",
    "randomNumber = random.randrange(1,10) #generate a random number from 1 to 9 (not 10)\n",
    "print(randomNumber)\n",
    "? random.randrange"
   ]
  },
  {
   "cell_type": "markdown",
   "metadata": {},
   "source": [
    "# Execute\n",
    "Let's use what we learned to improve our game outline as follows:\n",
    "* Remember we hard coded both player's response to be 'Rock'? Instead we will prompt the human for their choice.\n",
    "* For the AI, we will generate a random response\n",
    "* We will document our functions\n",
    "\n"
   ]
  },
  {
   "cell_type": "code",
   "execution_count": 14,
   "metadata": {},
   "outputs": [],
   "source": [
    "def DoPlayerTurn():\n",
    "    '''\n",
    "    Prompt the human player to choose Rock, Paper or Scissors by entering in a number\n",
    "    '''\n",
    "    response = input('1=Rock 2=Paper 3=Scissors')\n",
    "    return response\n",
    "\n",
    "import random    #import the random module   \n",
    "def DoAITurn():\n",
    "    '''\n",
    "    Generate the AI choice by using a random number\n",
    "    '''\n",
    "    ichoice =  random.randrange(1,4)  #Return a random number from 1-3\n",
    "    ichoice = str(ichoice)   #convert number to text\n",
    "    return ichoice\n",
    "\n",
    "def ConvertResponseToName(response):\n",
    "    '''\n",
    "    Convert '1','2','3' to 'Rock','Paper','Scissors'\n",
    "    '''\n",
    "    retvalue = None\n",
    "    if response == '1':\n",
    "        retvalue='Rock'\n",
    "    elif response=='2':\n",
    "        retvalue='Paper'\n",
    "    elif response=='3':\n",
    "        retvalue = 'Scissors'\n",
    "    else:\n",
    "        retvalue = 'Illegal Choice'\n",
    "    return retvalue"
   ]
  },
  {
   "cell_type": "code",
   "execution_count": 15,
   "metadata": {},
   "outputs": [
    {
     "name": "stdout",
     "output_type": "stream",
     "text": [
      "1=Rock 2=Paper 3=Scissors1\n",
      "i= 0 ai_response= 2 ai_text= Paper human_response= 1 human_text= Rock\n",
      "1=Rock 2=Paper 3=Scissors2\n",
      "i= 1 ai_response= 2 ai_text= Paper human_response= 2 human_text= Paper\n",
      "1=Rock 2=Paper 3=Scissors3\n",
      "i= 2 ai_response= 3 ai_text= Scissors human_response= 3 human_text= Scissors\n",
      "1=Rock 2=Paper 3=Scissors4\n",
      "i= 3 ai_response= 2 ai_text= Paper human_response= 4 human_text= Illegal Choice\n",
      "1=Rock 2=Paper 3=Scissors5\n",
      "i= 4 ai_response= 1 ai_text= Rock human_response= 5 human_text= Illegal Choice\n"
     ]
    }
   ],
   "source": [
    "# Now we can simulate some games. Please be careful to enter only 1,2 or 3 when prompted\n",
    "for i in range(5):   #range(5) creates a collection of numbers from 0 up to (but not including) 5\n",
    "    ai_response = DoAITurn()\n",
    "    human_response = DoPlayerTurn()\n",
    "    ai_text_response = ConvertResponseToName(ai_response)\n",
    "    human_text_response = ConvertResponseToName(human_response)\n",
    "    \n",
    "    print('i=',i,'ai_response=', ai_response,'ai_text=', ai_text_response,'human_response=',human_response, 'human_text=',human_text_response)\n",
    "\n",
    "    "
   ]
  },
  {
   "cell_type": "markdown",
   "metadata": {},
   "source": [
    "### Wrapup\n",
    "We learned a little more python, enough to play a game of Rock, Paper, Scissors between a human player and the computer. But note there is no real AI in this at all, our algorithm is able to play the game by making random plays but it does not learn from past results so it is not an AI algorithm. Our next step is to allow our 'AI' to save prior results, moving it a step closer to being able to learn from its mistakes.\n"
   ]
  },
  {
   "cell_type": "code",
   "execution_count": null,
   "metadata": {},
   "outputs": [],
   "source": []
  }
 ],
 "metadata": {
  "kernelspec": {
   "display_name": "Python 3",
   "language": "python",
   "name": "python3"
  },
  "language_info": {
   "codemirror_mode": {
    "name": "ipython",
    "version": 3
   },
   "file_extension": ".py",
   "mimetype": "text/x-python",
   "name": "python",
   "nbconvert_exporter": "python",
   "pygments_lexer": "ipython3",
   "version": "3.6.5"
  }
 },
 "nbformat": 4,
 "nbformat_minor": 2
}
