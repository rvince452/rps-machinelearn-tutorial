{
 "cells": [
  {
   "cell_type": "markdown",
   "metadata": {},
   "source": [
    "# Goals for AIGAME - RPS (Rock, Paper, Scissors) Part 4\n",
    "\n",
    "### Using the DataFrame to represent RPS games\n",
    "In the last tutorial, we saw how to represent a RPS game using a Python class which we defined. But we will not use that class, instead we will use a class from a third party library.\n",
    "The class we will use is the DataFrame object from the Pandas package.\n",
    "\n",
    "Why?\n",
    "\n",
    "1.  By choosing an existing, proven, third-party class, we can worry more about writing AI algorithms and less about writing Python classes\n",
    "1.  The DataFrame class is extremely flexible and powerful\n",
    "1.  Most importantly, many existing Machine Learning packages work with DataFrames. So by starting with DataFrames, we will more easily be able to implement Machine Learning algorithms\n",
    "\n",
    "\n",
    "### Saving/loading a list of games\n",
    "In the previous tutorial, we saw how to represent a collection of RPS class instances. When we switch to using Pandas DataFrames, we will find that not only will it be able to represent a single game, it will be able to represent a collection of games. **Futher**, it will be able to save/load those as well.\n",
    "\n",
    "The above is important piece of our strategy for writing an AI game:\n",
    "1.  Load the history of previous games\n",
    "1.  Analyze that history and formulate a strategy\n",
    "1.  Play a game and store results\n",
    "1.  Re-examine history and make changes.\n",
    "1.  When done playing, store all game results for next time\n",
    "\n",
    "### Improving the AI play using random number generation\n",
    "Previously, we hard-coded the human and AI play. We'll improve this using random number generation for both.\n"
   ]
  },
  {
   "cell_type": "markdown",
   "metadata": {},
   "source": [
    "# Build Experience\n",
    "To see how we will do the above, let's introduce ourselves to the DataFrame class and play around with it a bit.\n",
    "\n",
    "### The DataFrame is a class exposed by the Pandas library which can represent a collection of identical records.\n",
    "Think of a Spreadsheet:\n",
    "1.  Each column represents a different attribute (e.g. Name, Address)\n",
    "1.  Each row represents a separate record, but all records have the same attributes/columns\n",
    "\n",
    "|NAME| ZIP |GENDER|\n",
    "|----|-----|------|\n",
    "|Bob |12033|  Male|\n",
    "|Rita|34444|Female|\n",
    "|Pete|11221|  Male|\n",
    "\n",
    "We can do the same using a DataFrame as follows:\n"
   ]
  },
  {
   "cell_type": "code",
   "execution_count": 15,
   "metadata": {},
   "outputs": [
    {
     "name": "stdout",
     "output_type": "stream",
     "text": [
      "   NAME    ZIP  GENDER\n",
      "0   Bob  12033    Male\n",
      "1  Rita  34444  Female\n",
      "2  Pete  11221    Male\n"
     ]
    }
   ],
   "source": [
    "import pandas as pd\n",
    "columnNames = ['NAME','ZIP','GENDER']\n",
    "data = [['Bob',12033,'Male'], ['Rita',34444,'Female'],['Pete',11221,'Male']]\n",
    "dfTest = pd.DataFrame(columns=columnNames, data=data)\n",
    "print(dfTest)"
   ]
  },
  {
   "cell_type": "code",
   "execution_count": 16,
   "metadata": {},
   "outputs": [
    {
     "name": "stdout",
     "output_type": "stream",
     "text": [
      "['AI Response', 'Human Response', 'Outcome', 'Outcome Text']\n"
     ]
    }
   ],
   "source": [
    "# In the above example, each row represents a person. \n",
    "# Let's create a DataFrame where each row represents a game of RPS\n",
    "columnNames = ['AI Response','Human Response', 'Outcome', 'Outcome Text']\n",
    "print(columnNames)"
   ]
  },
  {
   "cell_type": "code",
   "execution_count": 17,
   "metadata": {},
   "outputs": [
    {
     "name": "stdout",
     "output_type": "stream",
     "text": [
      "[[1, 2, -1, 'Human Wins!'], [1, 1, 0, 'DRAW!'], [3, 1, -1, 'Human Wins!']]\n"
     ]
    }
   ],
   "source": [
    "###################\n",
    "# Rock, Paper or Scissors\n",
    "ROCK=1\n",
    "PAPER=2\n",
    "SCISSORS=3\n",
    "#AI Win, Human Win or DRAW\n",
    "DRAW=0\n",
    "AI_WIN=1\n",
    "HUMAN_WIN=-1\n",
    "#####################################\n",
    "\n",
    "#Now let's create a matching list of data for those columns\n",
    "game1 = [ROCK, PAPER, HUMAN_WIN, 'Human Wins!']\n",
    "game2 = [ROCK, ROCK, DRAW, 'DRAW!']\n",
    "game3 = [SCISSORS, ROCK, HUMAN_WIN, 'Human Wins!']\n",
    "all_games = [game1,game2,game3]  #look familiar??\n",
    "print(all_games)"
   ]
  },
  {
   "cell_type": "code",
   "execution_count": 18,
   "metadata": {},
   "outputs": [
    {
     "name": "stdout",
     "output_type": "stream",
     "text": [
      "   AI Response  Human Response  Outcome Outcome Text\n",
      "0            1               2       -1  Human Wins!\n",
      "1            1               1        0        DRAW!\n",
      "2            3               1       -1  Human Wins!\n"
     ]
    }
   ],
   "source": [
    "#First, we have to import the pandas package (by standard convention, it is abbreviated as pd)\n",
    "import pandas as pd \n",
    "\n",
    "dsGames = pd.DataFrame(columns=columnNames, data=all_games)\n",
    "print(dsGames)\n"
   ]
  },
  {
   "cell_type": "markdown",
   "metadata": {},
   "source": [
    "### Saving and Loading DataFrame\n",
    "All of our hard work is about to pay off. You may have been worried when you saw the DataFrame and thought that everything is getting complicated. But the Pandas DataFrame is extremely powerful and will reward us for our efforts. Let's write some functions for saving and loading. Be prepared, they will not be long!"
   ]
  },
  {
   "cell_type": "code",
   "execution_count": 19,
   "metadata": {},
   "outputs": [],
   "source": [
    "def SaveGameResults(fileSavePath, resultsDataFrame):\n",
    "    '''This function takes two arguments:\n",
    "    1) fileSavePath - the full path to the file which will hold the results, e.g. C:\\RPS_AI\\Results.csv (it will be a csv)\n",
    "    2) resultsDataFrame - a DataFrame which holds all the results\n",
    "    '''\n",
    "    with pd.ExcelWriter(fileSavePath) as writer:\n",
    "        resultsDataFrame.to_excel(writer, sheet_name=\"RPS Results\", index=False)\n",
    "        writer.save()\n",
    "def LoadGameResults(fileLoadPath):\n",
    "    '''This function takes one argument (the path of the saved results) and returns a DataFrame'''\n",
    "    retvalue = pd.read_excel(fileLoadPath, sheet_name=\"RPS Results\")\n",
    "    return retvalue"
   ]
  },
  {
   "cell_type": "markdown",
   "metadata": {},
   "source": [
    "Too good to be true? Let's try it out."
   ]
  },
  {
   "cell_type": "code",
   "execution_count": 20,
   "metadata": {},
   "outputs": [
    {
     "name": "stdout",
     "output_type": "stream",
     "text": [
      "Saving our DataFrame to  C:/Users/LEN320/Google Drive/DEV/Python/rps_results.xls\n"
     ]
    }
   ],
   "source": [
    "#TODO replace the value of RPS_RESULT_PATH so that it points to a folder on your computer\n",
    "RPS_RESULTS_PATH = 'C:/Users/LEN320/Google Drive/DEV/Python/rps_results.xls'\n",
    "print('Saving our DataFrame to ', RPS_RESULTS_PATH)\n",
    "SaveGameResults(RPS_RESULTS_PATH, dsGames)"
   ]
  },
  {
   "cell_type": "markdown",
   "metadata": {},
   "source": [
    "You can go to that folder and verify the file was created. But we can also use a python funcion to see that the file exists"
   ]
  },
  {
   "cell_type": "code",
   "execution_count": 21,
   "metadata": {},
   "outputs": [
    {
     "name": "stdout",
     "output_type": "stream",
     "text": [
      "File was created\n"
     ]
    }
   ],
   "source": [
    "import os\n",
    "if not os.path.exists(RPS_RESULTS_PATH):\n",
    "    print('Something went wrong')\n",
    "else:\n",
    "    print('File was created')"
   ]
  },
  {
   "cell_type": "markdown",
   "metadata": {},
   "source": [
    "Now let's load the information we just saved back into a new DataFrame"
   ]
  },
  {
   "cell_type": "code",
   "execution_count": 22,
   "metadata": {},
   "outputs": [
    {
     "data": {
      "text/html": [
       "<div>\n",
       "<style scoped>\n",
       "    .dataframe tbody tr th:only-of-type {\n",
       "        vertical-align: middle;\n",
       "    }\n",
       "\n",
       "    .dataframe tbody tr th {\n",
       "        vertical-align: top;\n",
       "    }\n",
       "\n",
       "    .dataframe thead th {\n",
       "        text-align: right;\n",
       "    }\n",
       "</style>\n",
       "<table border=\"1\" class=\"dataframe\">\n",
       "  <thead>\n",
       "    <tr style=\"text-align: right;\">\n",
       "      <th></th>\n",
       "      <th>AI Response</th>\n",
       "      <th>Human Response</th>\n",
       "      <th>Outcome</th>\n",
       "      <th>Outcome Text</th>\n",
       "    </tr>\n",
       "  </thead>\n",
       "  <tbody>\n",
       "    <tr>\n",
       "      <th>0</th>\n",
       "      <td>1</td>\n",
       "      <td>2</td>\n",
       "      <td>-1</td>\n",
       "      <td>Human Wins!</td>\n",
       "    </tr>\n",
       "    <tr>\n",
       "      <th>1</th>\n",
       "      <td>1</td>\n",
       "      <td>1</td>\n",
       "      <td>0</td>\n",
       "      <td>DRAW!</td>\n",
       "    </tr>\n",
       "    <tr>\n",
       "      <th>2</th>\n",
       "      <td>3</td>\n",
       "      <td>1</td>\n",
       "      <td>-1</td>\n",
       "      <td>Human Wins!</td>\n",
       "    </tr>\n",
       "  </tbody>\n",
       "</table>\n",
       "</div>"
      ],
      "text/plain": [
       "   AI Response  Human Response  Outcome Outcome Text\n",
       "0            1               2       -1  Human Wins!\n",
       "1            1               1        0        DRAW!\n",
       "2            3               1       -1  Human Wins!"
      ]
     },
     "execution_count": 22,
     "metadata": {},
     "output_type": "execute_result"
    }
   ],
   "source": [
    "dsTest = LoadGameResults(RPS_RESULTS_PATH)\n",
    "dsTest.head()"
   ]
  },
  {
   "cell_type": "markdown",
   "metadata": {},
   "source": [
    "### Generating Random Numbers\n",
    "\n",
    "We have learned how store RPS game results in a DataFrame and how to save and load those results. So we have enough to satisfy our goal for this chapter. But it could be more 'interesting' if we generate some 'random' games. \n",
    "To do this, we will need to be able to generate random RPS games."
   ]
  },
  {
   "cell_type": "code",
   "execution_count": 23,
   "metadata": {},
   "outputs": [
    {
     "name": "stdout",
     "output_type": "stream",
     "text": [
      "choice is 3\n",
      "choice is 3\n",
      "choice is 3\n",
      "choice is 2\n",
      "choice is 1\n",
      "choice is 1\n",
      "choice is 2\n",
      "choice is 3\n",
      "choice is 1\n",
      "choice is 3\n"
     ]
    }
   ],
   "source": [
    "import random # package to help us generate random RPS responses\n",
    "def getRandomRPSChoice():\n",
    "    '''\n",
    "    Return a random choice 1 (ROCK), 2(PAPER) or 3(SCISSORS)\n",
    "    '''\n",
    "    ichoice =  random.randrange(1,4)  #Generate a random number that is >= 1 and <4 (1,2 or 3)\n",
    "    return ichoice\n",
    "\n",
    "for itry in range(10):\n",
    "    print('choice is', getRandomRPSChoice())\n"
   ]
  },
  {
   "cell_type": "markdown",
   "metadata": {},
   "source": [
    "# Execute - Loading, Adding To and Saving RPS Results\n",
    "\n",
    "Let's use the code we wrote here and previous chapters to write a full sample game using random selections for both human and AI"
   ]
  },
  {
   "cell_type": "code",
   "execution_count": 24,
   "metadata": {},
   "outputs": [],
   "source": [
    "import pandas as pd \n",
    "import random\n",
    "import os\n",
    "################## SOME OLD FUNCTIONS TO HELP US WRITE THIS #############################\n",
    "###################\n",
    "# Rock, Paper or Scissors\n",
    "ROCK=1\n",
    "PAPER=2\n",
    "SCISSORS=3\n",
    "#AI Win, Human Win or DRAW\n",
    "DRAW=0\n",
    "AI_WIN=1\n",
    "HUMAN_WIN=-1\n",
    "#####################################\n",
    "def GetGameOutcome(aiChoice, humanChoice):\n",
    "    outcome = None\n",
    "    if aiChoice==humanChoice:\n",
    "        outcome = 0 #Both chose the same thing, this is a draw\n",
    "    elif aiChoice==ROCK and humanChoice==SCISSORS:\n",
    "        outcome = AI_WIN #AI rock breaks scissors - AI win\n",
    "    elif aiChoice==PAPER and humanChoice==ROCK:\n",
    "        outcome = AI_WIN #AI paper covers rock - AI win\n",
    "    elif aiChoice==SCISSORS and humanChoice == PAPER:\n",
    "        outcome = AI_WIN #AI scissors cuts paper - AI win\n",
    "    else:\n",
    "        outcome = HUMAN_WIN #if it was not a draw and it is not an AI win, then it must be an AI loss\n",
    "    return outcome\n",
    "\n",
    "def GetOutcomeText(outcome):\n",
    "    if outcome==DRAW:\n",
    "        return \"Draw!\"\n",
    "    elif outcome==AI_WIN:\n",
    "        return \"AI Wins!\"\n",
    "    elif outcome==HUMAN_WIN:\n",
    "        return \"Human Wins!!\"\n",
    "    else:\n",
    "        return '??'  #this is an error\n",
    "    \n",
    "import random # package to help us generate random RPS responses\n",
    "def getRandomRPSChoice():\n",
    "    '''\n",
    "    Return a random choice 1 (ROCK), 2(PAPER) or 3(SCISSORS)\n",
    "    '''\n",
    "    ichoice =  random.randrange(1,4)  #Generate a random number that is >= 1 and <4 (1,2 or 3)\n",
    "    return ichoice\n",
    "\n",
    "def SaveGameResults(fileSavePath, resultsDataFrame):\n",
    "    '''This function takes two arguments:\n",
    "    1) fileSavePath - the full path to the file which will hold the results, e.g. C:\\RPS_AI\\Results.csv (it will be a csv)\n",
    "    2) resultsDataFrame - a DataFrame which holds all the results\n",
    "    '''\n",
    "    with pd.ExcelWriter(fileSavePath) as writer:\n",
    "        resultsDataFrame.to_excel(writer, sheet_name=\"RPS Results\", index=False)\n",
    "        writer.save()\n",
    "def LoadGameResults(fileLoadPath):\n",
    "    '''This function takes one argument (the path of the saved results) and returns a DataFrame'''\n",
    "    if not os.path.exists(RPS_RESULTS_PATH):\n",
    "        #create an empty DataFrame\n",
    "        columnNames = ['AI Response','Human Response', 'Outcome', 'Outcome Text']\n",
    "        retvalue = pd.DataFrame(columns=columnNames)\n",
    "    else:\n",
    "        #load from file\n",
    "        retvalue = pd.read_excel(fileLoadPath, sheet_name=\"RPS Results\")\n",
    "    return retvalue\n",
    "\n",
    "###################################################################################"
   ]
  },
  {
   "cell_type": "code",
   "execution_count": 25,
   "metadata": {},
   "outputs": [],
   "source": [
    "#################### SOME NEW FUNCTIONS DRAWN FROM THE ABOVE ###########################\n",
    "def AnalyzeGameHistory(ds):\n",
    "    ''' TODO in a future tutorial: apply machine learnng techniques\n",
    "    '''\n",
    "def AddGameToResults(aiResponse, humanResponse, outcome, outcomeText, dsCurrentResults):\n",
    "    #print(dsCurrentResults.index)\n",
    "    retvalue = dsCurrentResults.append( {\"AI Response\":aiResponse,\"Human Response\":humanResponse,\"Outcome\":outcome,\"Outcome Text\":outcomeText}, ignore_index=True )\n",
    "    #print(retvalue.head(20))\n",
    "    return retvalue\n",
    "############################################################################################    "
   ]
  },
  {
   "cell_type": "code",
   "execution_count": 26,
   "metadata": {},
   "outputs": [],
   "source": [
    "######################### GAME (First Draft) ############################################\n",
    "RPS_RESULTS_PATH = 'C:/Users/LEN320/Google Drive/DEV/Python/rps_results.xls'\n",
    "NUM_GAMES_TO_PLAY = 10\n",
    "\n",
    "#Load previous results (if the file exists)\n",
    "dsGameHistory = LoadGameResults(RPS_RESULTS_PATH)\n",
    "\n",
    "#Let AI study those results so that it can play well\n",
    "AnalyzeGameHistory(dsGameHistory)\n",
    "\n",
    "#Play some games\n",
    "for igame in range(NUM_GAMES_TO_PLAY):\n",
    "    human_choice = getRandomRPSChoice() #TODO - in future, we will ask the human to enter their choice\n",
    "    ai_choice = getRandomRPSChoice() #TODO - in future, use machine learning algorithms to choose\n",
    "    outcome = GetGameOutcome(aiChoice=ai_choice, humanChoice=human_choice)\n",
    "    outcomeText = GetOutcomeText(outcome)\n",
    "    dsGameHistory = AddGameToResults(ai_choice, human_choice, outcome, outcomeText, dsGameHistory)\n",
    "\n",
    "#Save full history\n",
    "SaveGameResults(RPS_RESULTS_PATH, dsGameHistory)\n",
    "\n",
    "\n",
    "##########################################################################################333333"
   ]
  },
  {
   "cell_type": "code",
   "execution_count": 27,
   "metadata": {},
   "outputs": [
    {
     "name": "stdout",
     "output_type": "stream",
     "text": [
      "    AI Response  Human Response  Outcome  Outcome Text\n",
      "0             1               2       -1   Human Wins!\n",
      "1             1               1        0         DRAW!\n",
      "2             3               1       -1   Human Wins!\n",
      "3             2               1        1      AI Wins!\n",
      "4             3               1       -1  Human Wins!!\n",
      "5             3               2        1      AI Wins!\n",
      "6             3               2        1      AI Wins!\n",
      "7             3               3        0         Draw!\n",
      "8             3               3        0         Draw!\n",
      "9             2               1        1      AI Wins!\n",
      "10            2               3       -1  Human Wins!!\n",
      "11            3               1       -1  Human Wins!!\n",
      "12            3               3        0         Draw!\n"
     ]
    }
   ],
   "source": [
    "print(dsGameHistory)"
   ]
  },
  {
   "cell_type": "markdown",
   "metadata": {},
   "source": [
    "### Baby steps are paying off.\n",
    "Still to do:\n",
    "1.  Ask the human for their choice rather than using a random choice\n",
    "1.  Use machine learning use game history in order to create an AI strategy\n",
    "1.  Use the strategy to make a  choice"
   ]
  },
  {
   "cell_type": "code",
   "execution_count": null,
   "metadata": {},
   "outputs": [],
   "source": []
  }
 ],
 "metadata": {
  "kernelspec": {
   "display_name": "Python 3",
   "language": "python",
   "name": "python3"
  },
  "language_info": {
   "codemirror_mode": {
    "name": "ipython",
    "version": 3
   },
   "file_extension": ".py",
   "mimetype": "text/x-python",
   "name": "python",
   "nbconvert_exporter": "python",
   "pygments_lexer": "ipython3",
   "version": "3.6.5"
  }
 },
 "nbformat": 4,
 "nbformat_minor": 2
}
