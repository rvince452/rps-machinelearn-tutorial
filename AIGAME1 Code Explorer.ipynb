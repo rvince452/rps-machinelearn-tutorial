{
 "cells": [
  {
   "cell_type": "markdown",
   "metadata": {},
   "source": [
    "\n",
    "# Machine Learning Tutorial by way of Pandas, Python and Rock, Paper, Scissors\n",
    "Welcome, this is a tutorial which I am writing to organize what i've learned in the last year and also to be the kind of introduction which i wished i could find back when i started.\n",
    "\n",
    "In this less-than-ten part tutorial, i intend to create a working AI which 'learns' how to play the game Rock, Paper Scissors. To get there i will use Jupyter Notebooks, Python, Pandas, Markdown and Sci-Kit Learn's machine learning packages. Yes, you could develop an AI using various packages and languages but i am telling which road i'll take here. No matter how you go, multiple tools and technologies need to be leveraged.\n",
    "\n",
    "# Format for each Tutorial\n",
    "Each tutorial will be broken down into three sections:\n",
    "\n",
    "## Goal\n",
    "We'll talk about what we want to do by the end of the tutorial and introduce concepts we need to get there.\n",
    "\n",
    "## Build Experience\n",
    "We'll build up some code which will help us reach our goal\n",
    "\n",
    "## Execute\n",
    "We'll run some actual code which realizes our goal and discuss our results\n"
   ]
  },
  {
   "cell_type": "markdown",
   "metadata": {},
   "source": [
    "# Goal for AIGAME1 - RPG (Rock, Paper, Scissors)\n",
    "\n",
    "The goal for this tutorial is to present our final goal as well as provide some information about the technologies we will use to get there.\n",
    "\n",
    "### Our final goal\n",
    "Is to develop a machine learning algorithm that can play Rock, Paper, Scissors which a human competitor AND it can learn from those games and improve its play. The latter piece is what makes it AI/Machine Learning. The smartest chess game in the world is, by definition, not AI unless it changes (presumably improves) its play based on previous games.\n",
    "\n",
    "### Jupyter Notebooks\n",
    "You are using such a notebook to view this tutorial. I highly encourage you to watch some quick tutorial. These notebooks let us run snippets of Python code and document them as well.\n",
    "\n",
    "### Markdown\n",
    "Each section of the notebook can be of two types: code and markdown. Markdown is used to document. This section is written in Markdown. See more below\n",
    "\n",
    "### Python\n",
    "Python is one of the preferred computer languages for AI and is both powerful and yet simple to use (once you get over the indent thing)\n",
    "\n",
    "### Pandas\n",
    "Pandas is Python package used to load, manipulate and store large arrays. But it also does the same with DataFrames. A DataFrame is like a spreadsheet or a database table. Using DataFrames one can load, manipulate/transform and save large tables of related information. \n",
    "\n",
    "### Scikit-Learn\n",
    "Scikit-Learn is a library packages which can apply Machine Learning algorithms to data represented by Pandas objects"
   ]
  },
  {
   "cell_type": "markdown",
   "metadata": {},
   "source": [
    "# Build Experience\n",
    "Let's get started by going deeper with Markdown and Python.\n",
    "Again, we use Python for writing out AI Game and Markdown to document what we are doing."
   ]
  },
  {
   "cell_type": "markdown",
   "metadata": {},
   "source": [
    "\n",
    "## Markdown (Note- double click in this cell to see the actual Markdown commands - then run the cell (SHIFT+E) to see how it displays)\n",
    "\n",
    "Before we delve into programming with Python, let's first talk about documentation with Markdown. \n",
    "\n",
    "There are two types of Jupyter Notebook cells - code and markdown. Markdown is for documentation, which is important! So let's play a bit with some common markdown.\n",
    "\n",
    "\n",
    "Headings - headings are created by starting a line with a # sign followed by a space. \n",
    "\n",
    "# One pound is the largest font. \n",
    "## Two pounds is next largest\n",
    "### Three pounds...you get the idea.\n",
    "\n",
    "To **bold** an item use \\*\\* on either side of a phrase\n",
    "\n",
    "To *italic* an item use \\* on either side\n",
    "\n",
    "Use a <br\\> to force a line break\n",
    "\n",
    "Use a \\* followed by two spaces to make bullets\n",
    "*  bullet 1\n",
    "*  bullet 2\n",
    "\n",
    "Use a 1. followed by two spaces to make a numbered list\n",
    "1.  Item 1\n",
    "1.  Item 2\n",
    "\n",
    "Use three \\* to make a horizontal line\n",
    "*** \n",
    "Below the vertical line\n",
    "\n",
    "In order to put text in a box with a shaded title, do the following (double-click to see how it is done, i am not going to describe it)\n",
    "<div class=\"alert alert-block alert-info\">\n",
    "<b>Tip:</b> Use blue boxes (alert-info) for tips and notes. \n",
    "If it's a note, you don’t have to include the word \"Note\".\n",
    "</div>"
   ]
  },
  {
   "cell_type": "markdown",
   "metadata": {},
   "source": [
    "### Now you try it. The beauty of jupyter notebooks is that you can add a new cell anywhere and experiment.\n",
    "Her is my list\n",
    "1.  apples\n",
    "1.  bananas\n",
    "1.  pears"
   ]
  },
  {
   "cell_type": "markdown",
   "metadata": {},
   "source": [
    "## Simple Python\n",
    "If you have any experience with almost any programming language, you will be able to read and even write some simple python"
   ]
  },
  {
   "cell_type": "code",
   "execution_count": 1,
   "metadata": {},
   "outputs": [
    {
     "name": "stdout",
     "output_type": "stream",
     "text": [
      "value of x is 5\n",
      "new value of x is 16\n"
     ]
    }
   ],
   "source": [
    "#In Python a comment begins with a #.\n",
    "#Anything after a # is ignored by Python\n",
    "#Let's do some simple calculations and print the results in Python\n",
    "\n",
    "x = 4 #This is a comment, I have declared a variable with a value of 4\n",
    "x = x + 1 #Now the variable x has a value of 5\n",
    "print('value of x is',x) #But let's print it to be sure\n",
    "x = 2*3 + 10 #If you thought this set x to 10 + (2 multiplied by 3) = 16, then you are right\n",
    "#Of course comments are optional, now I'll put it above the code.\n",
    "print('new value of x is',x)\n",
    "\n",
    "# Press SHIFT+E to execute this python cell"
   ]
  },
  {
   "cell_type": "markdown",
   "metadata": {},
   "source": [
    "One feature of Python which sets it apart and may be confusing is its use of indentation to define blocks of code.\n",
    "In most languages, you can indent the code however you want and it makes no difference. For example\n",
    "\n",
    "x=2\n",
    "   y=4 #In most languages this is fine\n",
    "    \n",
    "But not in python. The above is illegal. You don't indent except to define a block of code. For example an if block or a \n",
    "for block or a function block. See the examples below"
   ]
  },
  {
   "cell_type": "code",
   "execution_count": 1,
   "metadata": {},
   "outputs": [
    {
     "name": "stdout",
     "output_type": "stream",
     "text": [
      "--------------\n",
      "x is lt 0\n",
      "-------------\n"
     ]
    }
   ],
   "source": [
    "#if block\n",
    "#when do you indent? For example, after an if statement, each indented line after an if will be executed as part of that\n",
    "#note that python uses a colon (:) to indicate that a block is going to start\n",
    "\n",
    "#simple if\n",
    "x = -3\n",
    "if x > 0:\n",
    "    #block of code to execute when x>0\n",
    "    print('x is gt 0')\n",
    "elif x < 0:\n",
    "    #block of code to execute when x<0, all the indented code will be executed in this case\n",
    "    print('--------------')\n",
    "    print('x is lt 0')\n",
    "    print('-------------')\n",
    "else:\n",
    "    print('x is 0')"
   ]
  },
  {
   "cell_type": "code",
   "execution_count": 2,
   "metadata": {},
   "outputs": [
    {
     "name": "stdout",
     "output_type": "stream",
     "text": [
      "num is 1 num squared is  1\n",
      "num is 4 num squared is  16\n",
      "num is 6 num squared is  36\n",
      "num is 7 num squared is  49\n",
      "end of loop\n"
     ]
    }
   ],
   "source": [
    "#for block\n",
    "#another example if when you are repeating a block of code for each element in a collection\n",
    "list_of_numbers = [1,4,6,7]  #This is a list of numbers\n",
    "#now i will use python's for block\n",
    "for num in list_of_numbers: #note the use of a colon at the end\n",
    "    #I MUST ident now\n",
    "    n2=num*num #in the first iteration, num is assigned to the first element of the list\n",
    "               #in the next iteration, num is assigned to the next element of the list\n",
    "               #this block of code is repeated until num has been assigned to every element in the list\n",
    "    print('num is', num, 'num squared is ', n2)\n",
    "print('end of loop') #now, because i no longer indent, this command is NOT part of the for loop"
   ]
  },
  {
   "cell_type": "markdown",
   "metadata": {},
   "source": [
    "### Functions\n",
    "Success with any programming language involves organizing work into smaller, often-reusable, routines.\n",
    "The advantage of defining a function is that you can call it multiple times, from different places. This saves you from having to write the same code over and over.\n",
    "\n",
    "Functions also the same colon and block pattern we saw above"
   ]
  },
  {
   "cell_type": "code",
   "execution_count": 3,
   "metadata": {},
   "outputs": [
    {
     "name": "stdout",
     "output_type": "stream",
     "text": [
      "not part of PrintWeAreDone\n"
     ]
    }
   ],
   "source": [
    "def PrintWeAreDone():   #note the colon \n",
    "    #I must indent to show python which lines belong to this function\n",
    "    print('We are done!') #every time this function is called, this line is executed because it is in the block\n",
    "    print('----------')   #this line is also inside the function block and will be executed\n",
    "print('not part of PrintWeAreDone') #BUT this line is not part of the function\n",
    "\n"
   ]
  },
  {
   "cell_type": "markdown",
   "metadata": {},
   "source": [
    "Note that when we executed the above, the function was not called. We were simply defining the function. The only line which was executed was the line after the defintion.\n",
    "\n",
    "If we want to call the function, we can do it like this:\n",
    "\n"
   ]
  },
  {
   "cell_type": "code",
   "execution_count": 4,
   "metadata": {},
   "outputs": [
    {
     "name": "stdout",
     "output_type": "stream",
     "text": [
      "We are done!\n",
      "----------\n"
     ]
    }
   ],
   "source": [
    "PrintWeAreDone()"
   ]
  },
  {
   "cell_type": "code",
   "execution_count": 5,
   "metadata": {},
   "outputs": [
    {
     "name": "stdout",
     "output_type": "stream",
     "text": [
      "The cube of 2 is 8\n",
      "We are done!\n",
      "----------\n"
     ]
    }
   ],
   "source": [
    "# Functions can also take arguments. \n",
    "# Functions can also call other functions\n",
    "def DetermineCubeOfNumber(num):\n",
    "    result = num * num * num\n",
    "    print('The cube of', num, 'is', result)\n",
    "    PrintWeAreDone()\n",
    "\n",
    "# Now lets execute this for n=2\n",
    "DetermineCubeOfNumber(2)"
   ]
  },
  {
   "cell_type": "markdown",
   "metadata": {},
   "source": [
    "# Execute\n",
    "### AIGAME RGP - Tutorial One - Running Program\n",
    "    Let's use some simple python to provide an outline for our game. "
   ]
  },
  {
   "cell_type": "code",
   "execution_count": 14,
   "metadata": {},
   "outputs": [
    {
     "name": "stdout",
     "output_type": "stream",
     "text": [
      "Round: 1\n",
      "human chose Rock ai chose Rock outcome is Draw\n",
      "Round: 2\n",
      "human chose Rock ai chose Rock outcome is Draw\n",
      "Round: 3\n",
      "human chose Rock ai chose Rock outcome is Draw\n",
      "Round: 4\n",
      "human chose Rock ai chose Rock outcome is Draw\n",
      "Round: 5\n",
      "human chose Rock ai chose Rock outcome is Draw\n",
      "Round: 6\n",
      "human chose Rock ai chose Rock outcome is Draw\n",
      "Round: 7\n",
      "human chose Rock ai chose Rock outcome is Draw\n",
      "Round: 8\n",
      "human chose Rock ai chose Rock outcome is Draw\n",
      "Round: 9\n",
      "human chose Rock ai chose Rock outcome is Draw\n"
     ]
    }
   ],
   "source": [
    "def determineWinner(human_move, ai_move):\n",
    "    result = None\n",
    "    if  human_move=='Rock' and ai_move=='Scissors':\n",
    "        result = 'Human Wins'\n",
    "    elif human_move == 'Paper' and ai_move == 'Rock':\n",
    "        result = 'Human Wins'\n",
    "    elif human_move == 'Scissors' and ai_move == 'Paper':\n",
    "        result = 'Human Wins'\n",
    "    elif human_move==ai_move:\n",
    "        result = 'Draw'\n",
    "    else:\n",
    "        result = 'AI Wins'\n",
    "    return result\n",
    "def aiAnalyzeResult(human_move, ai_move, outcome):\n",
    "    #TO DO!!!\n",
    "    return None\n",
    "def getHumanMove():\n",
    "    return 'Rock' #TODO\n",
    "def getAIMove():\n",
    "    return 'Rock' #TODO - learn from results\n",
    "        \n",
    "#Play 10 rounds of RPG between AI and Human\n",
    "for turn in range(1,10):  #range(1,10) returns a collection of numbers starting at 1  but not including 10 (1-9)\n",
    "    print('Round:', turn)\n",
    "    human_choice = getHumanMove()\n",
    "    ai_choice = getAIMove()\n",
    "    outcome = determineWinner(human_choice, ai_choice)\n",
    "    print('human chose',human_choice,'ai chose',ai_choice,'outcome is',outcome)\n",
    "    aiAnalyzeResult(human_choice, ai_choice, outcome)"
   ]
  },
  {
   "cell_type": "markdown",
   "metadata": {},
   "source": [
    "# Summary\n",
    "In one tutorial, we learned a little Markdown for documentation, we learned a little python and we started to flesh out how we might write our machine learning game."
   ]
  },
  {
   "cell_type": "code",
   "execution_count": null,
   "metadata": {},
   "outputs": [],
   "source": []
  }
 ],
 "metadata": {
  "kernelspec": {
   "display_name": "Python 3",
   "language": "python",
   "name": "python3"
  },
  "language_info": {
   "codemirror_mode": {
    "name": "ipython",
    "version": 3
   },
   "file_extension": ".py",
   "mimetype": "text/x-python",
   "name": "python",
   "nbconvert_exporter": "python",
   "pygments_lexer": "ipython3",
   "version": "3.6.5"
  }
 },
 "nbformat": 4,
 "nbformat_minor": 2
}
