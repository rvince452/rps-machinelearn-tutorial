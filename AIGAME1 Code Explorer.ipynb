{
 "cells": [
  {
   "cell_type": "markdown",
   "metadata": {},
   "source": [
    "\n",
    "# Machine Learning Tutorial by way of Pandas, Python and Rock, Paper, Scissors\n",
    "Welcome, this is a tutorial I am writing to organize what I've learned in the last year concerning Machine Learning and Python. I'm also trying to make it the kind of introduction I wished I could have found back when I started. Don't get me wrong, I found many helpful tutorials, but so much of it was new, I just needed everything to go very slow.\n",
    "\n",
    "I'll do my best.\n",
    "\n",
    "In this series of tutorials, i intend to create a working AI which 'learns' how to play the game Rock, Paper Scissors. To get there i will use Jupyter Notebooks, Python, Pandas, Markdown and Sci-Kit Learn's machine learning packages. I think the fact that one must use so many different tools makes it more difficult to learn, but I'll try to start with the basics of each, introducing them only when needed.\n",
    "\n",
    "# Format for each Tutorial\n",
    "Each tutorial will be broken down into three sections:\n",
    "\n",
    "## Goal\n",
    "We'll talk about what we want to do by the end of the tutorial and introduce the concepts we need to get there.\n",
    "\n",
    "## Build Experience\n",
    "We'll build some examples that will help us reach our goal\n",
    "\n",
    "## Execute\n",
    "Using the examples, we'll write and run code which realizes the goal of the tutorial.\n",
    "\n",
    "-----------------------------------------"
   ]
  },
  {
   "cell_type": "markdown",
   "metadata": {},
   "source": [
    "# Goal for AIGAME1 - RPG (Rock, Paper, Scissors)\n",
    "\n",
    "The goal for this tutorial is to state our final goal as well as introduce the technologies we will use to get there.\n",
    "\n",
    "### Our final goal\n",
    "Is to develop a machine learning algorithm that can play the children's game: Rock, Paper, Scissors. It should be able to play against a human competitor AND it should learn from those games and improve its play. The latter piece is what makes it AI/Machine Learning. The smartest chess game in the world is, by definition, not AI unless it changes (presumably improves) its play based on previous games.\n",
    "\n",
    "#### Outline of our proposed AI:\n",
    "1.  Load the history of previous games\n",
    "1.  Analyze that history and create a play strategy\n",
    "1.  Play a game and store results\n",
    "1.  Re-examine history and make changes.\n",
    "1.  When done playing, store all game results for next time\n",
    "\n",
    "### Jupyter Notebooks\n",
    "You are using such a notebook to view this tutorial. I highly encourage you to watch some quick tutorials. These notebooks let us run snippets of Python code and document them as well.\n",
    "\n",
    "### Markdown\n",
    "Each section of the notebook can be of two types: code and markdown. Markdown is used to format documentation. This section is written in Markdown. See more below\n",
    "\n",
    "### Python\n",
    "Python is one of the preferred computer languages for AI and is both powerful and yet simple to use (once you get over the indent thing)\n",
    "\n",
    "### Pandas\n",
    "Pandas is Python package used to load, manipulate and store large arrays. But it also does the same with DataFrames. A DataFrame is like a spreadsheet or a database table. Using DataFrames one can load, manipulate/transform and save large tables of related information. \n",
    "\n",
    "### Scikit-Learn\n",
    "Scikit-Learn is a library package that implements Machine Learning algorithms and related tools.\n",
    "\n",
    "-----------"
   ]
  },
  {
   "cell_type": "markdown",
   "metadata": {},
   "source": [
    "# Build Experience\n",
    "Let's get started by going deeper with Markdown and Python.\n",
    "Again, we use Python for writing out AI Game and Markdown to document what we are doing."
   ]
  },
  {
   "cell_type": "markdown",
   "metadata": {},
   "source": [
    "\n",
    "## Markdown (Note- double click in this cell to see the actual Markdown commands - then run the cell (SHIFT+E) to see how it displays)\n",
    "\n",
    "Before we delve into programming with Python, let's first talk about documentation with Markdown. \n",
    "\n",
    "There are two types of Jupyter Notebook cells - code and markdown. Markdown is for documentation, which is important! So let's play a bit with some common Markdown syntax.\n",
    "\n",
    "\n",
    "Headings - headings are created by starting a line with a # sign followed by a space. \n",
    "\n",
    "# One pound is the largest font. \n",
    "## Two pounds is next largest\n",
    "### Three pounds...you get the idea.\n",
    "\n",
    "To **bold**, surround a target phrase with two asterisks (\\*\\*)\n",
    "\n",
    "To *italicize* an item use only a single asterisk (\\*) on either side\n",
    "\n",
    "To force a line break, insert a <br\\> <br> at the place where you want to force the line break\n",
    "\n",
    "Use a \\* followed by two spaces to make bullets\n",
    "*  bullet 1\n",
    "*  bullet 2\n",
    "\n",
    "Use a 1. followed by two spaces to make a numbered list\n",
    "1.  Item 1\n",
    "1.  Item 2\n",
    "\n",
    "Use three \\* to make a horizontal line like so:\n",
    "*** \n",
    "\n",
    "\n",
    "In order to put text in a box with a shaded title, do the following (double-click to see how it is done, i am not going to describe it)\n",
    "<div class=\"alert alert-block alert-info\">\n",
    "<b>Tip:</b> Use blue boxes (alert-info) for tips and notes. \n",
    "If it's a note, you don’t have to include the word \"Note\".\n",
    "</div>"
   ]
  },
  {
   "cell_type": "markdown",
   "metadata": {},
   "source": [
    "### Now you try it. The beauty of jupyter notebooks is that you can add a new cell anywhere and experiment.\n",
    "Here is my numeric list of italicized items:\n",
    "1.  *apples*\n",
    "1.  *bananas*\n",
    "1.  *pears*"
   ]
  },
  {
   "cell_type": "markdown",
   "metadata": {},
   "source": [
    "## Simple Python\n",
    "We said above that there are two types of notebook cells. This section is 'Markdown'. This means that the text we entered will be interpreted as Markdown documentation. You can view/modify the cell type from the dropdown at the top of the screen.\n",
    "\n",
    "The second type is Code (see next cell). Code cells are expected to contain Python code. We will now show some simply Python code\n",
    "\n",
    "If you have any experience with any programming language, you will be able to read and even write simple python but it will take time to get used to it. My advice is to take the time and inspect every row of python. The first thing to know is that text after a # is comment text.\n",
    "\n",
    "When you 'run' a Markdown cell, the Markdown text is translated to formatted text.\n",
    "\n",
    "When you 'run' a code cell, the text is interpreted as Python and the code is run. "
   ]
  },
  {
   "cell_type": "code",
   "execution_count": 2,
   "metadata": {},
   "outputs": [
    {
     "name": "stdout",
     "output_type": "stream",
     "text": [
      "5\n",
      "The value of x is 5\n",
      "new value of x is 16 this is the end of this code section\n"
     ]
    }
   ],
   "source": [
    "#In Python a comment begins with a #.\n",
    "#Anything after a # is ignored by Python\n",
    "#Let's do some simple calculations and print the results in Python\n",
    "\n",
    "x = 4 #This is a comment, I have declared a variable with a value of 4\n",
    "x = x + 1 #I have modified the variable x to be one more than its previous value. Now the variable x has a value of 5\n",
    "print(x) #But let's print it to be sure. We use the print function to do this.\n",
    "\n",
    "#The Python print function accepts more than one argument and will print them all together. Note that it inserts spacing\n",
    "#between consecutive items\n",
    "print('The value of x is',x)\n",
    "\n",
    "#The * is used in Python to denote multiplication\n",
    "x = 2*3 + 10 #If you thought this set x to 10 + (2 multiplied by 3) = 16, then you are right\n",
    "#Of course comments are optional, now I'll put it above the code.\n",
    "print('new value of x is',x,'This is the end of this code section')\n",
    "\n",
    "# Press SHIFT+E to execute this python cell"
   ]
  },
  {
   "cell_type": "markdown",
   "metadata": {},
   "source": [
    "One feature of Python which sets it apart and may be confusing is its use of indentation to define blocks of code.\n",
    "In most languages, you can indent the code as much as you want and it makes no difference. \n",
    "For example, in C#\n",
    "x=2;\n",
    "   y=4;\n",
    "Is the same as:\n",
    "x=2;\n",
    "y=4;\n",
    "    \n",
    "But not in python. The above is illegal in python (also, Python does not use ; at the end of every line). \n",
    "In Python, you don't indent except to define a block of code. For example an if block or a \n",
    "for block or a function block. See the examples below"
   ]
  },
  {
   "cell_type": "markdown",
   "metadata": {},
   "source": [
    "### Python If Block"
   ]
  },
  {
   "cell_type": "code",
   "execution_count": 3,
   "metadata": {},
   "outputs": [
    {
     "name": "stdout",
     "output_type": "stream",
     "text": [
      "--------------\n",
      "x is lt 0\n",
      "-------------\n",
      "You should modify the value of x and verify that the correct code block is run. For example, change the value of x to 0\n"
     ]
    }
   ],
   "source": [
    "#if block\n",
    "#Similar to other languages, an if block is used to conditionally execute a block of code depending on the value\n",
    "#of a boolean variable\n",
    "\n",
    "#simple if. \n",
    "x = -3\n",
    "if x > 0:  #In Python, a colon is used before a block of code\n",
    "    print('x is gt 0')\n",
    "elif x < 0:\n",
    "    #block of code to execute when x<0, all the indented code will be executed in this case\n",
    "    print('--------------')\n",
    "    print('x is lt 0')\n",
    "    print('-------------')\n",
    "else:\n",
    "    print('x is 0')\n",
    "    \n",
    "print('You should modify the value of x and verify that the correct code block is run. For example, change the value of x to 0')"
   ]
  },
  {
   "cell_type": "code",
   "execution_count": null,
   "metadata": {},
   "outputs": [],
   "source": [
    "### Python For Block"
   ]
  },
  {
   "cell_type": "code",
   "execution_count": 5,
   "metadata": {},
   "outputs": [
    {
     "name": "stdout",
     "output_type": "stream",
     "text": [
      "in the for loop\n",
      "num is 1 num squared is  1\n",
      "in the for loop\n",
      "num is 4 num squared is  16\n",
      "in the for loop\n",
      "num is 6 num squared is  36\n",
      "in the for loop\n",
      "num is 7 num squared is  49\n",
      "end of loop - outside of the for block\n"
     ]
    }
   ],
   "source": [
    "#for block is used to define a code which should be repeated multiple times\n",
    "list_of_numbers = [1,4,6,7]  #This is a list of numbers\n",
    "#now i will use python's for block\n",
    "for num in list_of_numbers: #note the use of a colon at the end\n",
    "    #I MUST ident now\n",
    "    print('in the for loop')\n",
    "    n2=num*num #in the first iteration, num is assigned to the first element of the list\n",
    "               #in the next iteration, num is assigned to the next element of the list\n",
    "               #this block of code is repeated until num has been assigned to every element in the list\n",
    "    print('num is', num, 'num squared is ', n2)\n",
    "print('end of loop - outside of the for block') #Because i no longer indent, this command is NOT part of the for loop"
   ]
  },
  {
   "cell_type": "markdown",
   "metadata": {},
   "source": [
    "### Functions\n",
    "Success with any programming language involves organizing work into smaller, often-reusable, routines.\n",
    "The advantage of defining a function is that you can call it multiple times, from different places. This saves you from having to write the same code over and over.\n",
    "\n",
    "Functions use the same colon and block pattern we saw above"
   ]
  },
  {
   "cell_type": "code",
   "execution_count": 7,
   "metadata": {},
   "outputs": [
    {
     "name": "stdout",
     "output_type": "stream",
     "text": [
      "not part of PrintWeAreDone\n"
     ]
    }
   ],
   "source": [
    "def PrintWeAreDone():   #note the colon \n",
    "    #I must indent to show python which lines belong to this function\n",
    "    print('We are done!') #every time this function is called, this line is executed because it is in the block\n",
    "    print('----------')   #this line is also inside the function block and will be executed\n",
    "print('not part of PrintWeAreDone') #BUT this line is not part of the function\n",
    "\n"
   ]
  },
  {
   "cell_type": "markdown",
   "metadata": {},
   "source": [
    "**Note** when we executed the above, the function was not called. We were simply defining the function. The only line that was executed was the line after the defintion.\n",
    "\n",
    "If we want to call the function, we can do it like this:\n",
    "\n"
   ]
  },
  {
   "cell_type": "code",
   "execution_count": 8,
   "metadata": {},
   "outputs": [
    {
     "name": "stdout",
     "output_type": "stream",
     "text": [
      "We are done!\n",
      "----------\n"
     ]
    }
   ],
   "source": [
    "#Run the function 'PrintWeAreDone'\n",
    "PrintWeAreDone()"
   ]
  },
  {
   "cell_type": "code",
   "execution_count": 10,
   "metadata": {},
   "outputs": [],
   "source": [
    "# Functions can take arguments. \n",
    "# Functions can call other functions\n",
    "def DetermineCubeOfNumber(num):\n",
    "    result = num * num * num\n",
    "    print('The cube of', num, 'is', result)\n",
    "    PrintWeAreDone()\n",
    "\n"
   ]
  },
  {
   "cell_type": "markdown",
   "metadata": {},
   "source": [
    "We defined a function which takes one argument: a number.\n",
    "The function calculates the cube of that number and prints the results.\n",
    "Finally, this function calls the 'PrintWeAreDone' function that we defined previously.<br>\n",
    "**Note** - in Python, one must define (or import) a function *before* we use it."
   ]
  },
  {
   "cell_type": "code",
   "execution_count": 11,
   "metadata": {},
   "outputs": [
    {
     "name": "stdout",
     "output_type": "stream",
     "text": [
      "The cube of 2 is 8\n",
      "We are done!\n",
      "----------\n"
     ]
    }
   ],
   "source": [
    "# Now lets execute this for n=2\n",
    "DetermineCubeOfNumber(2)"
   ]
  },
  {
   "cell_type": "markdown",
   "metadata": {},
   "source": [
    "# Execute\n",
    "### AIGAME RGP - Tutorial One - Running Program\n",
    "Let's use the simple python we've learned to provide an outline for our game. \n",
    "    \n",
    " As a reminder, the game (Rock, Paper, Scissors) is played between two 'people'. Simultaneously each contestant chooses to display 'Rock', 'Paper' or 'Scissors'. If both choose the same, then the game is a draw. Otherwise the winner is determined as:<br>\n",
    " *  Rock beats Scissors (Rock breaks scissors)\n",
    " *  Scissors beats Paper (Scissors cuts paper)\n",
    " *  Paper beats Rock (Paper covers Rock)"
   ]
  },
  {
   "cell_type": "code",
   "execution_count": 12,
   "metadata": {},
   "outputs": [],
   "source": [
    "##########################################\n",
    "## First, we define some functions that we'll use in our outline\n",
    "#########################################\n",
    "\n",
    "#Get the human player's move (for now, it is always 'rock')\n",
    "def getHumanMove():\n",
    "    return 'Rock' #TODO\n",
    "#Get the AI player's move (for now, it is always 'rock')\n",
    "def getAIMove():\n",
    "    return 'Rock' #TODO - learn from results\n",
    "\n",
    "#Determine who one the game\n",
    "def determineWinner(human_move, ai_move):\n",
    "    result = None\n",
    "    if  human_move=='Rock' and ai_move=='Scissors':\n",
    "        result = 'Human Wins'\n",
    "    elif human_move == 'Paper' and ai_move == 'Rock':\n",
    "        result = 'Human Wins'\n",
    "    elif human_move == 'Scissors' and ai_move == 'Paper':\n",
    "        result = 'Human Wins'\n",
    "    elif human_move==ai_move:\n",
    "        result = 'Draw'\n",
    "    else:\n",
    "        result = 'AI Wins'\n",
    "    return result\n",
    "\n",
    "#In this function, the AI considers the results of this game and modifies it's game strategy accordingly\n",
    "def aiAnalyzeResult(human_move, ai_move, outcome):\n",
    "    #TO DO!!!\n",
    "    return None\n"
   ]
  },
  {
   "cell_type": "code",
   "execution_count": 13,
   "metadata": {},
   "outputs": [
    {
     "name": "stdout",
     "output_type": "stream",
     "text": [
      "Round: 1\n",
      "human chose Rock ai chose Rock outcome is Draw\n",
      "Round: 2\n",
      "human chose Rock ai chose Rock outcome is Draw\n",
      "Round: 3\n",
      "human chose Rock ai chose Rock outcome is Draw\n",
      "Round: 4\n",
      "human chose Rock ai chose Rock outcome is Draw\n",
      "Round: 5\n",
      "human chose Rock ai chose Rock outcome is Draw\n",
      "Round: 6\n",
      "human chose Rock ai chose Rock outcome is Draw\n",
      "Round: 7\n",
      "human chose Rock ai chose Rock outcome is Draw\n",
      "Round: 8\n",
      "human chose Rock ai chose Rock outcome is Draw\n",
      "Round: 9\n",
      "human chose Rock ai chose Rock outcome is Draw\n"
     ]
    }
   ],
   "source": [
    "#Play 10 rounds of RPG between AI and Human\n",
    "for turn in range(1,10):  #range(1,10) returns a collection of numbers starting at 1  but not including 10 (1-9)\n",
    "    print('Round:', turn)\n",
    "    human_choice = getHumanMove()\n",
    "    ai_choice = getAIMove()\n",
    "    outcome = determineWinner(human_choice, ai_choice)\n",
    "    print('human chose',human_choice,'ai chose',ai_choice,'outcome is',outcome)\n",
    "    aiAnalyzeResult(human_choice, ai_choice, outcome)"
   ]
  },
  {
   "cell_type": "markdown",
   "metadata": {},
   "source": [
    "# Summary\n",
    "In this tutorial, we learned a little Markdown for documentation, we learned a little python and we started to flesh out how we might write our game."
   ]
  },
  {
   "cell_type": "code",
   "execution_count": null,
   "metadata": {},
   "outputs": [],
   "source": []
  }
 ],
 "metadata": {
  "kernelspec": {
   "display_name": "Python 3",
   "language": "python",
   "name": "python3"
  },
  "language_info": {
   "codemirror_mode": {
    "name": "ipython",
    "version": 3
   },
   "file_extension": ".py",
   "mimetype": "text/x-python",
   "name": "python",
   "nbconvert_exporter": "python",
   "pygments_lexer": "ipython3",
   "version": "3.6.5"
  }
 },
 "nbformat": 4,
 "nbformat_minor": 2
}
