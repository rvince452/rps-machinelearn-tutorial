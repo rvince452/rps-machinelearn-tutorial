{
 "cells": [
  {
   "cell_type": "markdown",
   "metadata": {},
   "source": [
    "# Goals for AIGAME - RPS (Rock, Paper, Scissors) Part 3\n",
    "\n",
    "### Defining the results of a game\n",
    "\n",
    "We already discussed that in order to claim 'AI' status, our algorithm must be able to learn from past results.\n",
    "\n",
    "What do we mean by 'past results'? We mean a collection of previously-played games. So we have our work cut out for us because we have learned how to declare simple data in Python (numbers, strings, booleans) but we don't know how to represent a game of Rock, Paper, Scissors. Also, we don't know, yet, how to represent a collection (e.g. an array, a set, a list) of things.\n",
    "\n",
    "\n",
    "BTW, what defines a single game?\n",
    "1. Human player choice (rock, paper or scissors)\n",
    "1. AI player choice\n",
    "1. Outcome (AI win, Human win or Draw)\n",
    "Let's not overthink so this is good for now\n",
    "\n"
   ]
  },
  {
   "cell_type": "markdown",
   "metadata": {},
   "source": [
    "# Build Experience\n",
    "    Let's write some python to help us represent a RPS game"
   ]
  },
  {
   "cell_type": "code",
   "execution_count": 4,
   "metadata": {},
   "outputs": [],
   "source": [
    "#We'll see that AI algorithms prefer numbers to text. So let's define some python variables which are actually numbers\n",
    "\n",
    "###################\n",
    "# Rock, Paper or Scissors\n",
    "ROCK=1\n",
    "PAPER=2\n",
    "SCISSORS=3\n",
    "#AI Win, Human Win or DRAW\n",
    "DRAW=0\n",
    "AI_WIN=1\n",
    "HUMAN_WIN=-1\n",
    "#####################################\n"
   ]
  },
  {
   "cell_type": "code",
   "execution_count": 5,
   "metadata": {},
   "outputs": [],
   "source": [
    "# Now that we can represent RPS terms in terms of numbers (to benefit the machine learning algorithms), let's know write\n",
    "# some python to convert them into human-readible text\n",
    "def GetChoiceText(choice):\n",
    "    '''\n",
    "    Convert a numeric choice to human-readable text.\n",
    "        choice - is expected to be 1, 2 or 3\n",
    "    '''\n",
    "    if choice==ROCK:\n",
    "        return 'Rock'\n",
    "    elif choice==PAPER:\n",
    "        return 'Paper'\n",
    "    elif choice==SCISSORS:\n",
    "        return 'Scissors'\n",
    "    else:\n",
    "        return '??' #this is an error\n",
    "    \n",
    "def GetOutcomeText(outcome):\n",
    "    '''\n",
    "    Convert the game outcome code into human-readable text\n",
    "        outcome - is expected to be 1,0 or -1\n",
    "    '''\n",
    "    if outcome==DRAW:\n",
    "        return \"Draw!\"\n",
    "    elif outcome==AI_WIN:\n",
    "        return \"AI Wins!\"\n",
    "    elif outcome==HUMAN_WIN:\n",
    "        return \"Human Wins!!\"\n",
    "    else:\n",
    "        return '??'  #this is an error\n",
    "    \n",
    "# Now let's write a routine which takes both"
   ]
  },
  {
   "cell_type": "markdown",
   "metadata": {},
   "source": [
    "### Determining the Game Outcome\n",
    "We know how to determine the outcome of a game, so let's write a function for that.\n"
   ]
  },
  {
   "cell_type": "code",
   "execution_count": 6,
   "metadata": {},
   "outputs": [],
   "source": [
    "def GetGameOutcome(aiChoice, humanChoice):\n",
    "    '''\n",
    "        Evaluate the codes which represent the AI choice and the human's choice and determine the outcome.\n",
    "        All inputs and output use numeri codes (e.g. 1 rather than 'Rock')\n",
    "    '''\n",
    "    outcome = None\n",
    "    if aiChoice==humanChoice:\n",
    "        outcome = 0 #Both chose the same thing, this is a draw\n",
    "    elif aiChoice==ROCK and humanChoice==SCISSORS:\n",
    "        outcome = AI_WIN #AI rock breaks scissors - AI win\n",
    "    elif aiChoice==PAPER and humanChoice==ROCK:\n",
    "        outcome = AI_WIN #AI paper covers rock - AI win\n",
    "    elif aiChoice==SCISSORS and humanChoice == PAPER:\n",
    "        outcome = AI_WIN #AI scissors cuts paper - AI win\n",
    "    else:\n",
    "        outcome = HUMAN_WIN #if it was not a draw and it is not an AI win, then it must be an AI loss\n",
    "    return outcome"
   ]
  },
  {
   "cell_type": "code",
   "execution_count": 8,
   "metadata": {},
   "outputs": [
    {
     "name": "stdout",
     "output_type": "stream",
     "text": [
      "Ai chose: Paper Human chose: Scissors and the outcome is: Human Wins!!\n",
      "Ai chose: Rock Human chose: Rock and the outocme is: Draw!\n"
     ]
    }
   ],
   "source": [
    "# Let's test that out\n",
    "ai_choice = PAPER\n",
    "human_choice = SCISSORS\n",
    "outcome = GetGameOutcome(ai_choice, human_choice)\n",
    "print('Ai chose:', GetChoiceText(ai_choice), 'Human chose:', GetChoiceText(human_choice), 'and the outcome is:', GetOutcomeText(outcome))\n",
    "\n",
    "ai_choice = ROCK\n",
    "human_choice = ROCK\n",
    "outcome = GetGameOutcome(ai_choice, human_choice)\n",
    "print('Ai chose:', GetChoiceText(ai_choice), 'Human chose:', GetChoiceText(human_choice), 'and the outocme is:', GetOutcomeText(outcome))\n",
    "\n"
   ]
  },
  {
   "cell_type": "markdown",
   "metadata": {},
   "source": [
    "### Representing the Outcome of a Game\n",
    "How would we represent a single RPS (Rock Paper Scissors) game in python? We could do something like this:\n",
    "AI_Player = ROCK\n",
    "Human_Player = PAPER\n",
    "Outcome = HUMAN_WIN #Because paper covers rock\n",
    "\n",
    "The trouble with that is that those three variables are not associated with each other. We have to remember that they belong to the same game. And how do we represent multiple games? We might do something like:\n",
    "AI_Player_Game1 = ROCK\n",
    "Human_Player_Game1 = PAPER\n",
    "Outcome_Game1 = HUMAN_WIN #Because paper covers rock\n",
    "\n",
    "We would have to do similarly for game 2, but don't know how many games will be played.\n",
    "\n",
    "In object oriented programming, the standard way to bundle related properties and methods is through the use of a **class**.\n",
    "So we will show how classes are defined and used in Pythong. **However** - in the end, we will not be directly using our own Python classes to represent a game. Instead, we will use class objects defined in an external package.\n",
    "Still, it is useful to know about classes:\n",
    "\n",
    "\n",
    "#### Python Class\n",
    "Classes are the standard object oriented construct used to represent an abstract idea. In this case, we want to represent a RPS game outcome and we have already said that should include:\n",
    "1. The choice of the AI \n",
    "1. The choice of the Human \n",
    "1. The outcome of the game \n",
    "\n",
    "I will leave you to google the documentation for a Python class and will skip to an implementation:"
   ]
  },
  {
   "cell_type": "code",
   "execution_count": 9,
   "metadata": {},
   "outputs": [],
   "source": [
    "#Define the RPS_Outcome class with properties for aiChoice, humanChoice, outcome and outcomeText\n",
    "class RPS_Outcome:\n",
    "    def __init__(self, aiPlayer, humanPlayer, outcome):\n",
    "        self.aiPlayer = aiPlayer\n",
    "        self.humanPlayer = humanPlayer\n",
    "        self.outcome = outcome\n",
    "        \n"
   ]
  },
  {
   "cell_type": "code",
   "execution_count": 10,
   "metadata": {},
   "outputs": [
    {
     "name": "stdout",
     "output_type": "stream",
     "text": [
      "Ai chose: Rock Human chose: Rock and the result is Draw!\n"
     ]
    }
   ],
   "source": [
    "# Let's create an instance of the class and hold the results of a game\n",
    "HumanChoice = ROCK\n",
    "AIChoice = ROCK\n",
    "Outcome = DRAW\n",
    "\n",
    "game1 = RPS_Outcome(aiPlayer=AIChoice, humanPlayer=HumanChoice, outcome=Outcome)\n",
    "\n",
    "print('Ai chose:', GetChoiceText(game1.aiPlayer), 'Human chose:', GetChoiceText(game1.humanPlayer), 'and the result is', GetOutcomeText(game1.outcome))\n",
    "\n"
   ]
  },
  {
   "cell_type": "code",
   "execution_count": 13,
   "metadata": {},
   "outputs": [],
   "source": [
    "# Why is this cool? Because we can use this class to represent one or more games\n",
    "\n",
    "game1 = RPS_Outcome(aiPlayer=ROCK, humanPlayer=PAPER, outcome= AI_WIN)\n",
    "game2 = RPS_Outcome(aiPlayer=ROCK, humanPlayer=ROCK, outcome= DRAW)\n",
    "game3 = RPS_Outcome(aiPlayer=ROCK, humanPlayer=SCISSORS, outcome= HUMAN_WIN)\n",
    "\n",
    "\n"
   ]
  },
  {
   "cell_type": "code",
   "execution_count": 15,
   "metadata": {},
   "outputs": [
    {
     "name": "stdout",
     "output_type": "stream",
     "text": [
      "Ai chose: Rock Human chose: Paper and the result is AI Wins!\n"
     ]
    }
   ],
   "source": [
    "# It gets better. Classes can hold not only data properties, but functions as well. Let's define a function within the class \n",
    "# to print out the text status of the game.\n",
    "class RPS_Outcome:\n",
    "    '''\n",
    "    Represent a single game of Rock Paper Scissors\n",
    "    '''\n",
    "    def __init__(self, aiPlayer, humanPlayer, outcome):\n",
    "        self.aiPlayer = aiPlayer\n",
    "        self.humanPlayer = humanPlayer\n",
    "        self.outcome = outcome\n",
    "    def print_game(self):\n",
    "        print('Ai chose:', GetChoiceText(self.aiPlayer), 'Human chose:', GetChoiceText(self.humanPlayer), 'and the result is', GetOutcomeText(self.outcome))\n",
    "#I hope you will excuse me if I ignore the use of the keyword self. Any tutorial on Python classes will discuss that. But now\n",
    "#we can do this:\n",
    "game1 = RPS_Outcome(aiPlayer=ROCK, humanPlayer=PAPER, outcome= AI_WIN)\n",
    "game1.print_game()\n",
    "        "
   ]
  },
  {
   "cell_type": "markdown",
   "metadata": {},
   "source": [
    "Now we see how to represent a single game using a Python class. We can place each game in its own class instance. But how do we represent the set of all games? HOw do we add to that? For that we need to learn about the Python List"
   ]
  },
  {
   "cell_type": "markdown",
   "metadata": {},
   "source": [
    "### Lists in Python\n",
    "With a list, we can hold any number of elements of any type.\n",
    "Further, we can add to the list"
   ]
  },
  {
   "cell_type": "code",
   "execution_count": 8,
   "metadata": {},
   "outputs": [
    {
     "name": "stdout",
     "output_type": "stream",
     "text": [
      "my number list has a length of  4\n",
      "1\n",
      "4\n",
      "6\n",
      "9\n"
     ]
    }
   ],
   "source": [
    "list_of_numbers = [1,4,6,9]  # list of integers\n",
    "print('my number list has a length of ', len(list_of_numbers)) #the len function returns the number of items in the list\n",
    "for i in list_of_numbers:\n",
    "    print(i)"
   ]
  },
  {
   "cell_type": "code",
   "execution_count": 18,
   "metadata": {},
   "outputs": [
    {
     "name": "stdout",
     "output_type": "stream",
     "text": [
      "['the', 'way', 'to', 'store', 'many', 'strings']\n",
      "[2.0, 'string', 4, False]\n"
     ]
    }
   ],
   "source": [
    "list_of_strings = ['the','way','to','store','many','strings']\n",
    "print(list_of_strings)\n",
    "\n",
    "list_of_anything = [2.0, 'string', 4, False]\n",
    "print(list_of_anything)"
   ]
  },
  {
   "cell_type": "code",
   "execution_count": 19,
   "metadata": {},
   "outputs": [
    {
     "name": "stdout",
     "output_type": "stream",
     "text": [
      "[2.0, 'string', 4, False, True]\n"
     ]
    }
   ],
   "source": [
    "# Adding to the list is done using the append method (append is a function which belongs to the list class)\n",
    "list_of_anything.append(True) #Add a boolean value to the list\n",
    "print(list_of_anything)"
   ]
  },
  {
   "cell_type": "markdown",
   "metadata": {},
   "source": [
    "# Execute - how to store multiple games and add new games"
   ]
  },
  {
   "cell_type": "code",
   "execution_count": 16,
   "metadata": {},
   "outputs": [
    {
     "name": "stdout",
     "output_type": "stream",
     "text": [
      "num games: 3\n",
      "Ai chose: Rock Human chose: Paper and the result is AI Wins!\n",
      "Ai chose: Rock Human chose: Rock and the result is Draw!\n",
      "Ai chose: Rock Human chose: Scissors and the result is Human Wins!!\n"
     ]
    }
   ],
   "source": [
    "class RPS_Outcome:\n",
    "    '''\n",
    "    Represent a single game of Rock Paper Scissors\n",
    "    '''\n",
    "    def __init__(self, aiPlayer, humanPlayer, outcome):\n",
    "        self.aiPlayer = aiPlayer\n",
    "        self.humanPlayer = humanPlayer\n",
    "        self.outcome = outcome\n",
    "    def print_game(self):\n",
    "        print('Ai chose:', GetChoiceText(self.aiPlayer), 'Human chose:', GetChoiceText(self.humanPlayer), 'and the result is', GetOutcomeText(self.outcome))\n",
    "\n",
    "game1 = RPS_Outcome(aiPlayer=ROCK, humanPlayer=PAPER, outcome= AI_WIN)\n",
    "game2 = RPS_Outcome(aiPlayer=ROCK, humanPlayer=ROCK, outcome= DRAW)\n",
    "game3 = RPS_Outcome(aiPlayer=ROCK, humanPlayer=SCISSORS, outcome= HUMAN_WIN)       \n",
    "all_games = [] # empty array\n",
    "all_games.append(game1) #game 1\n",
    "all_games.append(game2) #game 2\n",
    "all_games.append(game3) #game 3\n",
    "\n",
    "print('num games:', len(all_games))\n",
    "for game in all_games:\n",
    "    game.print_game()\n",
    "\n",
    "    \n"
   ]
  },
  {
   "cell_type": "code",
   "execution_count": 20,
   "metadata": {},
   "outputs": [
    {
     "name": "stdout",
     "output_type": "stream",
     "text": [
      "num games: 4\n",
      "Ai chose: Rock Human chose: Paper and the result is AI Wins!\n",
      "Ai chose: Rock Human chose: Rock and the result is Draw!\n",
      "Ai chose: Rock Human chose: Scissors and the result is Human Wins!!\n",
      "Ai chose: Paper Human chose: Paper and the result is Draw!\n"
     ]
    }
   ],
   "source": [
    "#We can also add new games like this\n",
    "new_game = RPS_Outcome(aiPlayer=PAPER, humanPlayer=PAPER, outcome= DRAW)\n",
    "all_games.append(new_game)\n",
    "print('num games:', len(all_games))\n",
    "for game in all_games:\n",
    "    game.print_game()"
   ]
  },
  {
   "cell_type": "code",
   "execution_count": null,
   "metadata": {},
   "outputs": [],
   "source": []
  }
 ],
 "metadata": {
  "kernelspec": {
   "display_name": "Python 3",
   "language": "python",
   "name": "python3"
  },
  "language_info": {
   "codemirror_mode": {
    "name": "ipython",
    "version": 3
   },
   "file_extension": ".py",
   "mimetype": "text/x-python",
   "name": "python",
   "nbconvert_exporter": "python",
   "pygments_lexer": "ipython3",
   "version": "3.6.5"
  }
 },
 "nbformat": 4,
 "nbformat_minor": 2
}
